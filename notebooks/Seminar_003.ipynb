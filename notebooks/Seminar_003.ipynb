{
  "cells": [
    {
      "cell_type": "markdown",
      "id": "b6a728b2-fc2f-40d4-ada3-a876cdac0999",
      "metadata": {
        "id": "b6a728b2-fc2f-40d4-ada3-a876cdac0999"
      },
      "source": [
        "# Seminar 003: Functions in Python"
      ]
    },
    {
      "cell_type": "markdown",
      "id": "1efe49f0-cf40-4d7d-9367-4b6aacf5b684",
      "metadata": {
        "id": "1efe49f0-cf40-4d7d-9367-4b6aacf5b684"
      },
      "source": [
        "<a href=\"https://colab.research.google.com/github/JR-1991/PythonProgramming2025/blob/master/notebooks/Seminar_003.ipynb\" target=\"_parent\"><img src=\"https://colab.research.google.com/assets/colab-badge.svg\" alt=\"Open In Colab\"/></a>"
      ]
    },
    {
      "cell_type": "markdown",
      "id": "a8096bf6-a7f2-4345-91c1-e8ce8154646c",
      "metadata": {
        "id": "a8096bf6-a7f2-4345-91c1-e8ce8154646c"
      },
      "source": [
        "------"
      ]
    },
    {
      "cell_type": "markdown",
      "id": "0ecaf7e7-31a0-4e10-8e37-f4935402ce76",
      "metadata": {
        "id": "0ecaf7e7-31a0-4e10-8e37-f4935402ce76"
      },
      "source": [
        "## Notes"
      ]
    },
    {
      "cell_type": "code",
      "execution_count": null,
      "id": "89dd4174-383d-49a5-8536-65e23ffe53cd",
      "metadata": {
        "colab": {
          "base_uri": "https://localhost:8080/"
        },
        "id": "89dd4174-383d-49a5-8536-65e23ffe53cd",
        "outputId": "af8af774-e86f-4213-c2aa-f30d8bb162ef"
      },
      "outputs": [],
      "source": []
    },
    {
      "cell_type": "markdown",
      "id": "1348f1b6-6263-46c6-87ae-a15755908d16",
      "metadata": {
        "id": "1348f1b6-6263-46c6-87ae-a15755908d16",
        "tags": []
      },
      "source": [
        "## Functions"
      ]
    },
    {
      "cell_type": "markdown",
      "id": "a8a3c864-038d-4523-af7d-397d93ea5426",
      "metadata": {
        "id": "a8a3c864-038d-4523-af7d-397d93ea5426",
        "tags": []
      },
      "source": [
        "### Why?"
      ]
    },
    {
      "cell_type": "code",
      "execution_count": 7,
      "id": "a34fdf4c-b3cf-481e-97de-7ec0009ff94a",
      "metadata": {
        "colab": {
          "base_uri": "https://localhost:8080/"
        },
        "id": "a34fdf4c-b3cf-481e-97de-7ec0009ff94a",
        "outputId": "36555914-8bca-438b-9465-2819a9866062"
      },
      "outputs": [
        {
          "name": "stdout",
          "output_type": "stream",
          "text": [
            "0.4472135954999579\n"
          ]
        }
      ],
      "source": [
        "import math\n",
        "\n",
        "# Task: Calculate the inverse square root of numbers 1 to 100\n",
        "\n",
        "number_1 = 1 / math.sqrt(1)\n",
        "number_2 = 1 / math.sqrt(2)\n",
        "number_3 = 1 / math.sqrt(3)\n",
        "number_4 = 1 / math.sqrt(4)\n",
        "number_5 = 1 / math.sqrt(5)\n",
        "\n",
        "# ... and so on\n",
        "\n",
        "# Copy and past or even re-writing can be quite faulty!\n",
        "# Dont let you trick from this simple example\n",
        "\n",
        "print(number_5)"
      ]
    },
    {
      "cell_type": "markdown",
      "id": "d9ce67f3-a97f-4ed3-95e1-5087067bf893",
      "metadata": {
        "id": "d9ce67f3-a97f-4ed3-95e1-5087067bf893",
        "tags": []
      },
      "source": [
        "### Use a function"
      ]
    },
    {
      "cell_type": "code",
      "execution_count": 8,
      "id": "4ccb69c9-5609-4f7b-92ae-efebac6d7c05",
      "metadata": {
        "id": "4ccb69c9-5609-4f7b-92ae-efebac6d7c05"
      },
      "outputs": [],
      "source": [
        "def get_inverse_square_root(number: int):\n",
        "    \"\"\"Calculates the inverse square root of a number\"\"\"\n",
        "\n",
        "    result = 1 / math.sqrt(number)\n",
        "\n",
        "    return result"
      ]
    },
    {
      "cell_type": "code",
      "execution_count": 10,
      "id": "2e886021-3923-4cd1-9294-3aed9c8883ac",
      "metadata": {
        "colab": {
          "base_uri": "https://localhost:8080/"
        },
        "id": "2e886021-3923-4cd1-9294-3aed9c8883ac",
        "outputId": "8266ed32-8240-4496-c143-a26eca9e0222"
      },
      "outputs": [
        {
          "name": "stdout",
          "output_type": "stream",
          "text": [
            "0.007090237366685696\n"
          ]
        }
      ],
      "source": [
        "inv_sqrt = get_inverse_square_root(19892)\n",
        "print(inv_sqrt)"
      ]
    },
    {
      "cell_type": "code",
      "execution_count": null,
      "id": "ab56392b-917c-4425-81e1-4842e0443a77",
      "metadata": {
        "id": "ab56392b-917c-4425-81e1-4842e0443a77",
        "tags": []
      },
      "outputs": [],
      "source": [
        "for i in range(1, 100):\n",
        "    inv_sqrt = get_inverse_square_root(i)\n",
        "    print(inv_sqrt)\n",
        "\n",
        "    # \"0.3456\\n\"\n",
        "    # do something else"
      ]
    },
    {
      "cell_type": "markdown",
      "id": "ccda41f5-7fa8-47dd-87e3-dd32be448db1",
      "metadata": {
        "id": "ccda41f5-7fa8-47dd-87e3-dd32be448db1",
        "tags": []
      },
      "source": [
        "### Reasons to use functions"
      ]
    },
    {
      "cell_type": "markdown",
      "id": "ef6639ce-0b6c-41b5-b15d-9501f85f6459",
      "metadata": {
        "id": "ef6639ce-0b6c-41b5-b15d-9501f85f6459"
      },
      "source": [
        "- __Define it once, use it everywhere__ - Re-usability across applications\n",
        "- __Reduce overhead code__ - Split complex code into a series of functions\n",
        "- __Standardize a process__ - Process A requires X,Y,Z and returns A,B,C\n",
        "- __Share your code__ - Functions can be imported from your scripts"
      ]
    },
    {
      "cell_type": "markdown",
      "id": "a742387c-4f56-47eb-b808-0c63832a73c0",
      "metadata": {
        "id": "a742387c-4f56-47eb-b808-0c63832a73c0",
        "tags": []
      },
      "source": [
        "### Arguments and returns"
      ]
    },
    {
      "cell_type": "code",
      "execution_count": 12,
      "id": "67f4c64b-c495-4ca8-9a8f-103cbba7eb7f",
      "metadata": {
        "colab": {
          "base_uri": "https://localhost:8080/"
        },
        "id": "67f4c64b-c495-4ca8-9a8f-103cbba7eb7f",
        "outputId": "ed408572-a7ab-41f6-bd78-fd0e4679bf03"
      },
      "outputs": [
        {
          "name": "stdout",
          "output_type": "stream",
          "text": [
            "Inside function has arguments:  Hello\n",
            "Function returned:  something\n"
          ]
        }
      ],
      "source": [
        "# Functions can take input and return something\n",
        "def my_function(arguments):\n",
        "    # do something\n",
        "    print(\"Inside function has arguments: \", arguments)\n",
        "    return \"something\"\n",
        "\n",
        "\n",
        "returned = my_function(\"Hello\")\n",
        "print(\"Function returned: \", returned)"
      ]
    },
    {
      "cell_type": "markdown",
      "id": "f7f45267-ba90-436f-8477-19d1c269d80b",
      "metadata": {
        "id": "f7f45267-ba90-436f-8477-19d1c269d80b",
        "tags": []
      },
      "source": [
        "### Understanding the variable scope of functions"
      ]
    },
    {
      "cell_type": "code",
      "execution_count": 13,
      "id": "591f930c-c65b-4520-8096-dc3d315f9cdd",
      "metadata": {
        "colab": {
          "base_uri": "https://localhost:8080/"
        },
        "id": "591f930c-c65b-4520-8096-dc3d315f9cdd",
        "outputId": "c80e960b-c944-4bc3-aa13-0a8956140a24"
      },
      "outputs": [
        {
          "name": "stdout",
          "output_type": "stream",
          "text": [
            "Calling non-argument variable:  Outside\n",
            "Calling argument variable:  Inside\n",
            "Variable outside of function:  Outside\n",
            "Changed variable:  [1, 2, 3, 3, 10]\n"
          ]
        }
      ],
      "source": [
        "some_variable = \"Outside\"\n",
        "some_list = [1, 2, 3, 3]\n",
        "another_variable = \"Outside\"\n",
        "\n",
        "\n",
        "def my_function(another_variable):\n",
        "    print(\"Calling non-argument variable: \", some_variable)\n",
        "    print(\"Calling argument variable: \", another_variable)\n",
        "\n",
        "    some_list.append(10)\n",
        "\n",
        "\n",
        "my_function(\"Inside\")\n",
        "print(\"Variable outside of function: \", another_variable)\n",
        "print(\"Changed variable: \", some_list)"
      ]
    },
    {
      "cell_type": "code",
      "execution_count": 16,
      "id": "271469a0-c3d9-4832-9209-5a61521e1298",
      "metadata": {
        "id": "271469a0-c3d9-4832-9209-5a61521e1298"
      },
      "outputs": [],
      "source": [
        "def take_a_number(number: str):\n",
        "    # Guardian clause\n",
        "    if isinstance(number, str) is False:\n",
        "        raise TypeError(\"This requires a string!!!!\")\n",
        "\n",
        "    print(number)"
      ]
    },
    {
      "cell_type": "code",
      "execution_count": 18,
      "id": "cc83a446-646b-412b-aa19-92d746359838",
      "metadata": {
        "colab": {
          "base_uri": "https://localhost:8080/"
        },
        "id": "cc83a446-646b-412b-aa19-92d746359838",
        "outputId": "a02d8009-8805-4da6-c5b3-2427842dcd27"
      },
      "outputs": [
        {
          "name": "stdout",
          "output_type": "stream",
          "text": [
            "10.0\n"
          ]
        }
      ],
      "source": [
        "take_a_number(\"10.0\")"
      ]
    },
    {
      "cell_type": "markdown",
      "id": "9ae998b2-34a4-4c31-ac4e-3e58d3bf3f86",
      "metadata": {
        "id": "9ae998b2-34a4-4c31-ac4e-3e58d3bf3f86",
        "tags": []
      },
      "source": [
        "### Tips on using functions"
      ]
    },
    {
      "cell_type": "markdown",
      "id": "c81e4155-87ae-4bc2-887b-8840e87cafd0",
      "metadata": {
        "id": "c81e4155-87ae-4bc2-887b-8840e87cafd0"
      },
      "source": [
        "- Keep it simple, a function should only have one job.\n",
        "- Dont hesitate defining multiple small functions instead of a big one\n",
        "- Include at least a brief summary of what your function is doing\n",
        "- Think about generalization - How can my function be applied to deviating cases?\n",
        "- Put your functions in another script and import them to reduce overhead"
      ]
    }
  ],
  "metadata": {
    "colab": {
      "provenance": []
    },
    "kernelspec": {
      "display_name": "base",
      "language": "python",
      "name": "python3"
    },
    "language_info": {
      "codemirror_mode": {
        "name": "ipython",
        "version": 3
      },
      "file_extension": ".py",
      "mimetype": "text/x-python",
      "name": "python",
      "nbconvert_exporter": "python",
      "pygments_lexer": "ipython3",
      "version": "3.12.7"
    }
  },
  "nbformat": 4,
  "nbformat_minor": 5
}
