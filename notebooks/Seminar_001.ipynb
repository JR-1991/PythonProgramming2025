{
  "cells": [
    {
      "cell_type": "markdown",
      "id": "b6a728b2-fc2f-40d4-ada3-a876cdac0999",
      "metadata": {
        "id": "b6a728b2-fc2f-40d4-ada3-a876cdac0999"
      },
      "source": [
        "# Seminar 001: Python fundamentals"
      ]
    },
    {
      "cell_type": "markdown",
      "id": "07bf3fd3",
      "metadata": {
        "id": "07bf3fd3"
      },
      "source": [
        "<a href=\"https://colab.research.google.com/github/JR-1991/PythonProgramming2025/blob/master/notebooks/Seminar_001.ipynb\" target=\"_parent\"><img src=\"https://colab.research.google.com/assets/colab-badge.svg\" alt=\"Open In Colab\"/></a>"
      ]
    },
    {
      "cell_type": "markdown",
      "id": "a8096bf6-a7f2-4345-91c1-e8ce8154646c",
      "metadata": {
        "id": "a8096bf6-a7f2-4345-91c1-e8ce8154646c"
      },
      "source": [
        "------"
      ]
    },
    {
      "cell_type": "markdown",
      "id": "8f4c3af9-a909-411f-ba4d-78d269cdb447",
      "metadata": {
        "id": "8f4c3af9-a909-411f-ba4d-78d269cdb447"
      },
      "source": [
        "## Welcome to Jupyter!\n",
        "\n",
        "Jupyter is a coding environment that combines __documentation__ and __code__ which is very suitable for micropublications and to explain code. It is a new fundamental in scientific scripting that aids reproduciblity. Ultimately, Jupyter can help understanding what has been done better than a plain script.\n",
        "\n",
        "There are two types of cells:\n",
        "\n",
        "- __Code:__ Here the actual code will be executed\n",
        "- __Markdown:__ Explanations and any kind of text that helps understanding the code\n",
        "\n",
        "Each __code cell__ can be executed individually by using the __play-button__ or the key-combo `shift` + `enter`. New cells can be added by using the __plus-button (+)__ or the key-combo `alt` + `enter` which will execute the current cell and add a new one."
      ]
    },
    {
      "cell_type": "markdown",
      "id": "1348f1b6-6263-46c6-87ae-a15755908d16",
      "metadata": {
        "id": "1348f1b6-6263-46c6-87ae-a15755908d16"
      },
      "source": [
        "## Using Python as a calculator"
      ]
    },
    {
      "cell_type": "code",
      "execution_count": null,
      "id": "a9f887b5-8065-416f-bc99-a7d8e02ea251",
      "metadata": {
        "id": "a9f887b5-8065-416f-bc99-a7d8e02ea251",
        "outputId": "f4ca1f71-a517-45e4-aec6-3f635a447c72",
        "colab": {
          "base_uri": "https://localhost:8080/"
        }
      },
      "outputs": [
        {
          "output_type": "execute_result",
          "data": {
            "text/plain": [
              "40"
            ]
          },
          "metadata": {},
          "execution_count": 3
        }
      ],
      "source": [
        "10 * 4"
      ]
    },
    {
      "cell_type": "markdown",
      "id": "f44bdbad-1b48-465f-9d06-57f8796f1f24",
      "metadata": {
        "id": "f44bdbad-1b48-465f-9d06-57f8796f1f24"
      },
      "source": [
        "## Variables"
      ]
    },
    {
      "cell_type": "markdown",
      "id": "1d367e90-9724-4b37-99b3-fb283ff0ddbd",
      "metadata": {
        "id": "1d367e90-9724-4b37-99b3-fb283ff0ddbd",
        "tags": []
      },
      "source": [
        "- Variables act as \"sticky notes\" attached to any kind of data or result\n",
        "- Most essential concept in programming\n",
        "- Can be accessed later on by using the variables name\n",
        "- Make sure to name your variable by its content"
      ]
    },
    {
      "cell_type": "code",
      "execution_count": null,
      "id": "960efdca-21ca-45c7-b2d3-12b17250a511",
      "metadata": {
        "id": "960efdca-21ca-45c7-b2d3-12b17250a511"
      },
      "outputs": [],
      "source": [
        "variable = 10 * 4"
      ]
    },
    {
      "cell_type": "code",
      "execution_count": null,
      "id": "L9IDLRMQPVBB",
      "metadata": {
        "id": "L9IDLRMQPVBB",
        "outputId": "f1afbe35-f1e3-4bd7-c375-00a88f849f6a",
        "colab": {
          "base_uri": "https://localhost:8080/"
        }
      },
      "outputs": [
        {
          "output_type": "execute_result",
          "data": {
            "text/plain": [
              "40"
            ]
          },
          "metadata": {},
          "execution_count": 6
        }
      ],
      "source": [
        "# Jupyter specific (needs to be at the end)\n",
        "variable"
      ]
    },
    {
      "cell_type": "code",
      "execution_count": null,
      "id": "0JktEh3mPhWa",
      "metadata": {
        "id": "0JktEh3mPhWa",
        "outputId": "727e356c-5043-4788-8e10-3fff8cebcba4",
        "colab": {
          "base_uri": "https://localhost:8080/"
        }
      },
      "outputs": [
        {
          "output_type": "stream",
          "name": "stdout",
          "text": [
            "40\n",
            "30\n"
          ]
        }
      ],
      "source": [
        "# Print statement\n",
        "print(variable)\n",
        "print(30)"
      ]
    },
    {
      "cell_type": "code",
      "execution_count": null,
      "id": "kzWRGWc6PvRg",
      "metadata": {
        "id": "kzWRGWc6PvRg",
        "outputId": "6a6091d6-ed14-4c83-c3dd-918a307acb75",
        "colab": {
          "base_uri": "https://localhost:8080/"
        }
      },
      "outputs": [
        {
          "output_type": "stream",
          "name": "stdout",
          "text": [
            "40 100\n"
          ]
        }
      ],
      "source": [
        "# Overload the print statement\n",
        "variable2 = 100\n",
        "print(variable, variable2)"
      ]
    },
    {
      "cell_type": "code",
      "execution_count": null,
      "id": "q4o-rr3CQA_1",
      "metadata": {
        "id": "q4o-rr3CQA_1",
        "outputId": "24c96575-6610-4320-d84e-f5852b758e04",
        "colab": {
          "base_uri": "https://localhost:8080/"
        }
      },
      "outputs": [
        {
          "output_type": "stream",
          "name": "stdout",
          "text": [
            "140\n"
          ]
        }
      ],
      "source": [
        "# Combine variables\n",
        "variable3 = variable + variable2\n",
        "print(variable3)"
      ]
    },
    {
      "cell_type": "code",
      "execution_count": null,
      "id": "EDQhKrR2QcQD",
      "metadata": {
        "id": "EDQhKrR2QcQD",
        "outputId": "24968618-5ae8-4614-8217-0c7171e555f5",
        "colab": {
          "base_uri": "https://localhost:8080/"
        }
      },
      "outputs": [
        {
          "output_type": "stream",
          "name": "stdout",
          "text": [
            "10.0\n",
            "100\n",
            "0\n"
          ]
        }
      ],
      "source": [
        "# Other operations\n",
        "\n",
        "# Division\n",
        "division = 100 / 10\n",
        "print(division)\n",
        "\n",
        "# Exponents\n",
        "# 10^2\n",
        "exponent = 10**2\n",
        "print(exponent)\n",
        "\n",
        "# Modulo\n",
        "modulo = 100 % 2\n",
        "print(modulo)"
      ]
    },
    {
      "cell_type": "markdown",
      "id": "edd7a508-3d2a-4312-b484-2270d21512ed",
      "metadata": {
        "id": "edd7a508-3d2a-4312-b484-2270d21512ed"
      },
      "source": [
        "## Data Types"
      ]
    },
    {
      "cell_type": "markdown",
      "id": "f8c6260a-50e0-44f4-b3e3-97df6e6f9a5d",
      "metadata": {
        "id": "f8c6260a-50e0-44f4-b3e3-97df6e6f9a5d",
        "tags": []
      },
      "source": [
        "- Numbers: Integers (int) and Floating Point Numbers (float)\n",
        "- Strings: Collection of multiple characters (str)"
      ]
    },
    {
      "cell_type": "code",
      "execution_count": null,
      "id": "217d35fd-968a-4246-a1ee-cc4e754fa4d4",
      "metadata": {
        "id": "217d35fd-968a-4246-a1ee-cc4e754fa4d4",
        "outputId": "fc93d97f-ecce-4185-991a-d9a70c5b3de7",
        "colab": {
          "base_uri": "https://localhost:8080/"
        }
      },
      "outputs": [
        {
          "output_type": "execute_result",
          "data": {
            "text/plain": [
              "int"
            ]
          },
          "metadata": {},
          "execution_count": 13
        }
      ],
      "source": [
        "# Integer\n",
        "integer = 1\n",
        "type(integer)"
      ]
    },
    {
      "cell_type": "code",
      "execution_count": null,
      "id": "0JBgtbo4Snm2",
      "metadata": {
        "id": "0JBgtbo4Snm2",
        "outputId": "f400e46b-25a3-4c69-e9f6-e1654a977763",
        "colab": {
          "base_uri": "https://localhost:8080/"
        }
      },
      "outputs": [
        {
          "output_type": "execute_result",
          "data": {
            "text/plain": [
              "float"
            ]
          },
          "metadata": {},
          "execution_count": 14
        }
      ],
      "source": [
        "# Float\n",
        "float_number = 2.0\n",
        "type(float_number)"
      ]
    },
    {
      "cell_type": "code",
      "execution_count": null,
      "id": "Gt2DTTQeS-n1",
      "metadata": {
        "id": "Gt2DTTQeS-n1",
        "outputId": "db5640d0-f8f4-4fea-f833-f90c5b4ba9f1",
        "colab": {
          "base_uri": "https://localhost:8080/"
        }
      },
      "outputs": [
        {
          "output_type": "execute_result",
          "data": {
            "text/plain": [
              "str"
            ]
          },
          "metadata": {},
          "execution_count": 15
        }
      ],
      "source": [
        "# Strings\n",
        "string = \"Hello, world!\"\n",
        "type(string)"
      ]
    },
    {
      "cell_type": "code",
      "execution_count": null,
      "id": "lBvRG0p9TPoi",
      "metadata": {
        "id": "lBvRG0p9TPoi",
        "outputId": "a9b43932-c1e2-43d2-f82d-c184176f3d2c",
        "colab": {
          "base_uri": "https://localhost:8080/",
          "height": 36
        }
      },
      "outputs": [
        {
          "output_type": "execute_result",
          "data": {
            "text/plain": [
              "'H'"
            ],
            "application/vnd.google.colaboratory.intrinsic+json": {
              "type": "string"
            }
          },
          "metadata": {},
          "execution_count": 16
        }
      ],
      "source": [
        "# Doing operations with strings\n",
        "string[0]"
      ]
    },
    {
      "cell_type": "code",
      "execution_count": null,
      "id": "jFH6IrqEUECD",
      "metadata": {
        "id": "jFH6IrqEUECD",
        "outputId": "d0d79678-38c8-4b26-c8fb-87bdfd57f100",
        "colab": {
          "base_uri": "https://localhost:8080/",
          "height": 36
        }
      },
      "outputs": [
        {
          "output_type": "execute_result",
          "data": {
            "text/plain": [
              "'Hello'"
            ],
            "application/vnd.google.colaboratory.intrinsic+json": {
              "type": "string"
            }
          },
          "metadata": {},
          "execution_count": 18
        }
      ],
      "source": [
        "# Sub-string indexing\n",
        "string[0:5]"
      ]
    },
    {
      "cell_type": "code",
      "execution_count": null,
      "id": "wWQnV_aOUkYz",
      "metadata": {
        "id": "wWQnV_aOUkYz",
        "outputId": "0b9af2e0-e973-4204-f9b2-4baf635b5979",
        "colab": {
          "base_uri": "https://localhost:8080/"
        }
      },
      "outputs": [
        {
          "output_type": "stream",
          "name": "stdout",
          "text": [
            "Casted (10) is of type: <class 'int'>\n"
          ]
        }
      ],
      "source": [
        "# Casting of data types\n",
        "string = \"10\" # string\n",
        "casted = int(string) # String into integer\n",
        "print(f\"Casted ({casted}) is of type: {type(casted)}\")"
      ]
    },
    {
      "cell_type": "code",
      "execution_count": null,
      "id": "Tlz4wDvdU0id",
      "metadata": {
        "id": "Tlz4wDvdU0id",
        "outputId": "b981dee2-fbda-4b9d-e4d1-79ee50e17eec",
        "colab": {
          "base_uri": "https://localhost:8080/",
          "height": 196
        }
      },
      "outputs": [
        {
          "output_type": "error",
          "ename": "ValueError",
          "evalue": "invalid literal for int() with base 10: 'ten'",
          "traceback": [
            "\u001b[0;31m---------------------------------------------------------------------------\u001b[0m",
            "\u001b[0;31mValueError\u001b[0m                                Traceback (most recent call last)",
            "\u001b[0;32m<ipython-input-21-ddbe994c769f>\u001b[0m in \u001b[0;36m<cell line: 0>\u001b[0;34m()\u001b[0m\n\u001b[1;32m      1\u001b[0m \u001b[0;31m# Impossible casts\u001b[0m\u001b[0;34m\u001b[0m\u001b[0;34m\u001b[0m\u001b[0m\n\u001b[0;32m----> 2\u001b[0;31m \u001b[0mint\u001b[0m\u001b[0;34m(\u001b[0m\u001b[0;34m\"ten\"\u001b[0m\u001b[0;34m)\u001b[0m\u001b[0;34m\u001b[0m\u001b[0;34m\u001b[0m\u001b[0m\n\u001b[0m",
            "\u001b[0;31mValueError\u001b[0m: invalid literal for int() with base 10: 'ten'"
          ]
        }
      ],
      "source": [
        "# Impossible casts\n",
        "int(\"ten\")"
      ]
    },
    {
      "cell_type": "markdown",
      "id": "0c274eaf-567d-4ee5-8e4a-c60c1a5c4fc3",
      "metadata": {
        "id": "0c274eaf-567d-4ee5-8e4a-c60c1a5c4fc3"
      },
      "source": [
        "## Lists"
      ]
    },
    {
      "cell_type": "markdown",
      "id": "7c652332-08ba-4a67-993f-f5f58a734fae",
      "metadata": {
        "id": "7c652332-08ba-4a67-993f-f5f58a734fae",
        "tags": []
      },
      "source": [
        "- Contains a sequence of arbitrary data types\n",
        "- Started with `[` followd by comma-separated entries and closed by `]`\n",
        "- Individual entries can be accessed using `int` indicies (`my_list[0]` for the first entry)\n",
        "- Order is important"
      ]
    },
    {
      "cell_type": "code",
      "execution_count": null,
      "id": "3b9d7722-2810-4142-97d6-c20bb203e0ab",
      "metadata": {
        "id": "3b9d7722-2810-4142-97d6-c20bb203e0ab"
      },
      "outputs": [],
      "source": [
        "# You were in the lab and recorded a measurement\n",
        "time1 = 0.0\n",
        "time2 = 2.0\n",
        "time3 = 5.0"
      ]
    },
    {
      "cell_type": "code",
      "execution_count": null,
      "id": "5DfgQSw5VwXA",
      "metadata": {
        "id": "5DfgQSw5VwXA",
        "outputId": "5d00137d-202a-488c-b0d0-e0e12dfdd90b",
        "colab": {
          "base_uri": "https://localhost:8080/"
        }
      },
      "outputs": [
        {
          "output_type": "execute_result",
          "data": {
            "text/plain": [
              "([0.0, 2.0, 5.0], list)"
            ]
          },
          "metadata": {},
          "execution_count": 23
        }
      ],
      "source": [
        "# Lists are arrays of things\n",
        "list_example = [0.0, 2.0, 5.0]\n",
        "list_example, type(list_example)"
      ]
    },
    {
      "cell_type": "code",
      "execution_count": null,
      "id": "u-x5j7veWGTH",
      "metadata": {
        "id": "u-x5j7veWGTH",
        "outputId": "88be4969-a01d-4e3e-c74f-4b7eac58a043",
        "colab": {
          "base_uri": "https://localhost:8080/"
        }
      },
      "outputs": [
        {
          "output_type": "stream",
          "name": "stdout",
          "text": [
            "0.0\n",
            "2.0\n"
          ]
        }
      ],
      "source": [
        "# Accessing single parts\n",
        "first_element = list_example[0]\n",
        "print(first_element)\n",
        "\n",
        "second_element = list_example[1]\n",
        "print(second_element)"
      ]
    },
    {
      "cell_type": "code",
      "execution_count": null,
      "id": "BQR5fRSHWUUf",
      "metadata": {
        "id": "BQR5fRSHWUUf",
        "outputId": "b46994eb-f09d-4094-b799-8344fea2e5fa",
        "colab": {
          "base_uri": "https://localhost:8080/"
        }
      },
      "outputs": [
        {
          "output_type": "stream",
          "name": "stdout",
          "text": [
            "[0.0, 2.0]\n"
          ]
        }
      ],
      "source": [
        "# Accessing a subset\n",
        "subset = list_example[0:2]\n",
        "print(subset)"
      ]
    },
    {
      "cell_type": "code",
      "execution_count": null,
      "id": "aJzB_O0rWbZG",
      "metadata": {
        "id": "aJzB_O0rWbZG",
        "outputId": "e147473e-60d5-4543-bc17-469e7679aa5b",
        "colab": {
          "base_uri": "https://localhost:8080/"
        }
      },
      "outputs": [
        {
          "output_type": "stream",
          "name": "stdout",
          "text": [
            "[7.0]\n"
          ]
        }
      ],
      "source": [
        "# Adding things to lists\n",
        "list_example.append(7.0)\n",
        "\n",
        "print(list_example)"
      ]
    },
    {
      "cell_type": "code",
      "source": [
        "# Clear this list\n",
        "list_example.clear()"
      ],
      "metadata": {
        "id": "Lx68fyfz6Lkc"
      },
      "id": "Lx68fyfz6Lkc",
      "execution_count": null,
      "outputs": []
    },
    {
      "cell_type": "code",
      "execution_count": null,
      "id": "EK8ZYuTVWzXV",
      "metadata": {
        "id": "EK8ZYuTVWzXV",
        "outputId": "a5791dfa-d4b1-4fbd-971f-419ffb563e1b",
        "colab": {
          "base_uri": "https://localhost:8080/"
        }
      },
      "outputs": [
        {
          "output_type": "stream",
          "name": "stdout",
          "text": [
            "[100.0, 'strings', 10, True]\n"
          ]
        }
      ],
      "source": [
        "# We can add whatever we want\n",
        "# It is not type specific!\n",
        "mixed_list = [\n",
        "    100.0,\n",
        "    \"strings\",\n",
        "    10,\n",
        "    True,\n",
        "]\n",
        "\n",
        "print(mixed_list)"
      ]
    },
    {
      "cell_type": "code",
      "execution_count": null,
      "id": "vcVCQmOUXNIE",
      "metadata": {
        "id": "vcVCQmOUXNIE",
        "outputId": "b9b04c07-e74c-4407-c21a-90d91fb49bc7",
        "colab": {
          "base_uri": "https://localhost:8080/"
        }
      },
      "outputs": [
        {
          "output_type": "stream",
          "name": "stdout",
          "text": [
            "Last element: True\n",
            "Second to last element: 10\n"
          ]
        }
      ],
      "source": [
        "# Extract the last element of a list\n",
        "print(f\"Last element: {mixed_list[-1]}\")\n",
        "print(f\"Second to last element: {mixed_list[-2]}\")"
      ]
    },
    {
      "cell_type": "code",
      "source": [
        "# Getting the length of a list\n",
        "length_of_list = len(mixed_list)\n",
        "print(f\"Length of the list: {length_of_list}\")"
      ],
      "metadata": {
        "id": "colsPf0p7Vk4",
        "outputId": "72297f67-95cc-4245-d29a-7d19bf8ea681",
        "colab": {
          "base_uri": "https://localhost:8080/"
        }
      },
      "id": "colsPf0p7Vk4",
      "execution_count": null,
      "outputs": [
        {
          "output_type": "stream",
          "name": "stdout",
          "text": [
            "Length of the list: 4\n"
          ]
        }
      ]
    },
    {
      "cell_type": "markdown",
      "id": "043d6468-95df-449c-a287-ff61c295346c",
      "metadata": {
        "id": "043d6468-95df-449c-a287-ff61c295346c"
      },
      "source": [
        "## Dictionaries"
      ]
    },
    {
      "cell_type": "markdown",
      "id": "6c0b8223-4163-4df3-bfa3-3ecc304e8261",
      "metadata": {
        "id": "6c0b8223-4163-4df3-bfa3-3ecc304e8261",
        "tags": []
      },
      "source": [
        "- Mapping from a `key` to a `value`\n",
        "- Can be regarded as a collection of \"sticky notes\"\n",
        "- Behaves similar to a list, but that the indices are generalized to custom indices\n",
        "- Order is not important"
      ]
    },
    {
      "cell_type": "code",
      "execution_count": null,
      "id": "31c7ec71-f879-461c-b37a-8390c07cb34b",
      "metadata": {
        "id": "31c7ec71-f879-461c-b37a-8390c07cb34b"
      },
      "outputs": [],
      "source": [
        "# Dict is a generlization of a list\n",
        "# list[1] = something"
      ]
    },
    {
      "cell_type": "code",
      "source": [
        "# How to define a dict\n",
        "dictionary = {\n",
        "    \"street\": \"Hölderlinstr\",\n",
        "    \"zip\": 70193\n",
        "}\n",
        "\n",
        "# Equivalent of a list (and its downside)\n",
        "equivalent = [\n",
        "    \"Hölderlinstr.\",\n",
        "    70193\n",
        "]\n",
        "\n",
        "print(dictionary, type(dictionary))"
      ],
      "metadata": {
        "id": "Q6ie8pnf8Dlx",
        "outputId": "f4ba21ef-7a36-430f-e1c7-7e0e0d9306eb",
        "colab": {
          "base_uri": "https://localhost:8080/"
        }
      },
      "id": "Q6ie8pnf8Dlx",
      "execution_count": 1,
      "outputs": [
        {
          "output_type": "stream",
          "name": "stdout",
          "text": [
            "{'street': 'Hölderlinstr', 'zip': 70193} <class 'dict'>\n"
          ]
        }
      ]
    },
    {
      "cell_type": "code",
      "source": [
        "# Inspect the keys of a dictionary\n",
        "dictionary.keys()"
      ],
      "metadata": {
        "id": "OVeRwe2nyDVF",
        "outputId": "fc289924-9130-43cf-d4d1-416a53492dbf",
        "colab": {
          "base_uri": "https://localhost:8080/"
        }
      },
      "id": "OVeRwe2nyDVF",
      "execution_count": 3,
      "outputs": [
        {
          "output_type": "execute_result",
          "data": {
            "text/plain": [
              "dict_keys(['street', 'zip'])"
            ]
          },
          "metadata": {},
          "execution_count": 3
        }
      ]
    },
    {
      "cell_type": "code",
      "source": [
        "# Access data of a dictionary\n",
        "street = dictionary[\"street\"]\n",
        "print(f\"The street is {street}\")\n",
        "\n",
        "zip_code = dictionary[\"zip\"]\n",
        "print(f\"The zip code is {zip_code}\")"
      ],
      "metadata": {
        "id": "DXTCuBzh804O",
        "outputId": "a075747b-6c43-44eb-a5a2-9719f1a7cd34",
        "colab": {
          "base_uri": "https://localhost:8080/"
        }
      },
      "id": "DXTCuBzh804O",
      "execution_count": null,
      "outputs": [
        {
          "output_type": "stream",
          "name": "stdout",
          "text": [
            "The street is Hölderlinstr\n",
            "The zip code is 70193\n"
          ]
        }
      ]
    },
    {
      "cell_type": "code",
      "source": [
        "# Extending a dictionary\n",
        "dictionary[\"city\"] = \"Stuttgart\"\n",
        "\n",
        "print(\"Content of the dictionary after mutation\")\n",
        "print(dictionary)"
      ],
      "metadata": {
        "id": "0qLl8zjz9mAO",
        "outputId": "6f27947e-9959-42a9-b1ab-fce50e9db4bc",
        "colab": {
          "base_uri": "https://localhost:8080/"
        }
      },
      "id": "0qLl8zjz9mAO",
      "execution_count": null,
      "outputs": [
        {
          "output_type": "stream",
          "name": "stdout",
          "text": [
            "Content of the dictionary after mutation\n",
            "{'street': 'Hölderlinstr', 'zip': 70193, 'city': 'Stuttgart'}\n"
          ]
        }
      ]
    },
    {
      "cell_type": "code",
      "source": [
        "# Remove an element (case: Overwrite)\n",
        "dictionary[\"city\"] = \"Stuttgart-West\"\n",
        "print(dictionary)"
      ],
      "metadata": {
        "id": "Ce8I_jOd99c8",
        "outputId": "d090567f-4228-405a-fb23-c7c0d308689d",
        "colab": {
          "base_uri": "https://localhost:8080/"
        }
      },
      "id": "Ce8I_jOd99c8",
      "execution_count": null,
      "outputs": [
        {
          "output_type": "stream",
          "name": "stdout",
          "text": [
            "{'street': 'Hölderlinstr', 'zip': 70193, 'city': 'Stuttgart-West'}\n"
          ]
        }
      ]
    },
    {
      "cell_type": "code",
      "source": [
        "# Remove an element (case: Deleting)\n",
        "del dictionary[\"city\"]\n",
        "print(dictionary)"
      ],
      "metadata": {
        "id": "NtpF0uQ8-KoX",
        "outputId": "6f3dbd75-98b6-4c21-af2a-7f8d403f1cb0",
        "colab": {
          "base_uri": "https://localhost:8080/"
        }
      },
      "id": "NtpF0uQ8-KoX",
      "execution_count": null,
      "outputs": [
        {
          "output_type": "stream",
          "name": "stdout",
          "text": [
            "{'street': 'Hölderlinstr', 'zip': 70193}\n"
          ]
        }
      ]
    },
    {
      "cell_type": "markdown",
      "id": "0691a453-62ee-45cd-9dc2-101841822952",
      "metadata": {
        "id": "0691a453-62ee-45cd-9dc2-101841822952",
        "tags": []
      },
      "source": [
        "## For-loops"
      ]
    },
    {
      "cell_type": "markdown",
      "id": "805da471-34e4-43fe-a5b2-ae4eb76e1d6b",
      "metadata": {
        "id": "805da471-34e4-43fe-a5b2-ae4eb76e1d6b",
        "jp-MarkdownHeadingCollapsed": true,
        "tags": []
      },
      "source": [
        "<center><img src=\"https://media.geeksforgeeks.org/wp-content/uploads/20191101172216/for-loop-python.jpg\" width=\"500\" height=\"500\"/></center>\n",
        "\n",
        "- Used to dynamically iterate over each entry in a list or dictionary\n",
        "- Helps solving the problem of individual accessing a list\n",
        "- Most used loop in Python and staright forward\n",
        "\n",
        "#### Procedure\n",
        "1. The for-loop \"pulls\" an entry per round from the list\n",
        "2. Stored in the \"variable scope\" to the name you've choosen e.g. `variable`\n",
        "3. Inside the \"body\" operations can be executed as usual\n",
        "\n",
        "#### Example\n",
        "\n",
        "```\n",
        "for variable in my_list:\n",
        "    # do something\n",
        "    print(variable * 2)\n",
        "```"
      ]
    },
    {
      "cell_type": "code",
      "execution_count": 18,
      "id": "48a10ad7-85d3-441a-ab38-4b823e6a710a",
      "metadata": {
        "id": "48a10ad7-85d3-441a-ab38-4b823e6a710a",
        "outputId": "26eb037f-7913-4049-c01b-15cbc0ea71a4",
        "colab": {
          "base_uri": "https://localhost:8080/"
        }
      },
      "outputs": [
        {
          "output_type": "execute_result",
          "data": {
            "text/plain": [
              "20.0"
            ]
          },
          "metadata": {},
          "execution_count": 18
        }
      ],
      "source": [
        "# Access values in a list\n",
        "measurement = [0.0, 2.0, 5.0, 20.0] # Has four elements 0-5\n",
        "\n",
        "measurement[0] * 10\n",
        "measurement[1] * 10\n",
        "# measurement[6] * 10 # Invalid one\n"
      ]
    },
    {
      "cell_type": "code",
      "execution_count": 6,
      "id": "B1cu2XqmZETf",
      "metadata": {
        "id": "B1cu2XqmZETf",
        "outputId": "ab329fc3-41d1-4ca2-850c-9ed4e1f8cb54",
        "colab": {
          "base_uri": "https://localhost:8080/"
        }
      },
      "outputs": [
        {
          "output_type": "stream",
          "name": "stdout",
          "text": [
            "0.0\n",
            "20.0\n",
            "50.0\n",
            "100.0\n"
          ]
        }
      ],
      "source": [
        "# Use a for loop!\n",
        "for value in measurement:\n",
        "  print(value * 10)"
      ]
    },
    {
      "cell_type": "code",
      "source": [
        "# How to not use a for-loop\n",
        "for value in measurement:\n",
        "print(value * 10)"
      ],
      "metadata": {
        "id": "V2sws9rO0cyX",
        "outputId": "97f75f33-a173-443a-cae8-75a4303f273b",
        "colab": {
          "base_uri": "https://localhost:8080/",
          "height": 125
        }
      },
      "id": "V2sws9rO0cyX",
      "execution_count": 7,
      "outputs": [
        {
          "output_type": "error",
          "ename": "IndentationError",
          "evalue": "expected an indented block after 'for' statement on line 2 (<ipython-input-7-90fddd5bb11b>, line 3)",
          "traceback": [
            "\u001b[0;36m  File \u001b[0;32m\"<ipython-input-7-90fddd5bb11b>\"\u001b[0;36m, line \u001b[0;32m3\u001b[0m\n\u001b[0;31m    print(value * 10)\u001b[0m\n\u001b[0m    ^\u001b[0m\n\u001b[0;31mIndentationError\u001b[0m\u001b[0;31m:\u001b[0m expected an indented block after 'for' statement on line 2\n"
          ]
        }
      ]
    },
    {
      "cell_type": "code",
      "source": [
        "# Variable scope\n",
        "for value in measurement:\n",
        "  var = value * 10\n",
        "\n",
        "print(value)"
      ],
      "metadata": {
        "id": "fojLAMzM0mkr",
        "outputId": "527e981a-37e7-4a03-941d-ef4c47e70e36",
        "colab": {
          "base_uri": "https://localhost:8080/"
        }
      },
      "id": "fojLAMzM0mkr",
      "execution_count": 11,
      "outputs": [
        {
          "output_type": "stream",
          "name": "stdout",
          "text": [
            "10.0\n"
          ]
        }
      ]
    },
    {
      "cell_type": "code",
      "source": [
        "# Danger: Naming variables in loops\n",
        "value = \"hello\"\n",
        "print(f\"Value before: {value}\")\n",
        "\n",
        "for value in measurement:\n",
        "  print(value)\n",
        "\n",
        "print(f\"Value after: {value}\")"
      ],
      "metadata": {
        "id": "6uLYwnR_1YGx",
        "outputId": "346bd1f5-37d9-4637-ac38-ec7451b97063",
        "colab": {
          "base_uri": "https://localhost:8080/"
        }
      },
      "id": "6uLYwnR_1YGx",
      "execution_count": 19,
      "outputs": [
        {
          "output_type": "stream",
          "name": "stdout",
          "text": [
            "Value before: hello\n",
            "0.0\n",
            "2.0\n",
            "5.0\n",
            "20.0\n",
            "Value after: 20.0\n"
          ]
        }
      ]
    },
    {
      "cell_type": "code",
      "source": [
        "# Start from different point\n",
        "print(len(measurement))\n",
        "\n",
        "for value in measurement[1:-2]:\n",
        "  print(value)"
      ],
      "metadata": {
        "id": "5cVTiSvA2dVg",
        "outputId": "c9fa124b-6620-4921-a579-ed7f0f00d4d7",
        "colab": {
          "base_uri": "https://localhost:8080/"
        }
      },
      "id": "5cVTiSvA2dVg",
      "execution_count": 17,
      "outputs": [
        {
          "output_type": "stream",
          "name": "stdout",
          "text": [
            "4\n",
            "2.0\n"
          ]
        }
      ]
    },
    {
      "cell_type": "code",
      "execution_count": 20,
      "id": "Niwx9AVueyTy",
      "metadata": {
        "id": "Niwx9AVueyTy",
        "outputId": "cdf82abf-eb36-406f-f16c-5c56200fbffd",
        "colab": {
          "base_uri": "https://localhost:8080/"
        }
      },
      "outputs": [
        {
          "output_type": "stream",
          "name": "stdout",
          "text": [
            "The value at index 2 is 5.0\n"
          ]
        }
      ],
      "source": [
        "# Breaking a loop\n",
        "for (i, value) in enumerate(measurement):\n",
        "  # 1st iteration (0, 20.0)\n",
        "  # 2nd iteration (1, 15.0)\n",
        "\n",
        "  if i == 2:\n",
        "    print(f\"The value at index {i} is {value}\")\n",
        "    break"
      ]
    },
    {
      "cell_type": "markdown",
      "id": "8e9891c5-b667-4399-8189-b00b4d2946ac",
      "metadata": {
        "id": "8e9891c5-b667-4399-8189-b00b4d2946ac",
        "tags": []
      },
      "source": [
        "## While-loops"
      ]
    },
    {
      "cell_type": "markdown",
      "id": "216e5b19-97a0-414d-9983-6e9faea3f174",
      "metadata": {
        "id": "216e5b19-97a0-414d-9983-6e9faea3f174",
        "tags": []
      },
      "source": [
        "<center><img src=\"https://media.geeksforgeeks.org/wp-content/uploads/20191101170515/while-loop.jpg\" width=\"500\" height=\"500\"/></center>\n",
        "\n",
        "- Behaves similar to the for-loop\n",
        "- Stops whenever a specific condition is met, such as when a number is greater some value\n",
        "- Does __not__ pull entries from a list, thus it needs to be done manually\n",
        "- Needs a starting condition that is evaluated at each round\n",
        "- Can end up in an infinite loop\n",
        "- Rarely used and should only be considered when dealing with highly dynamic tasks\n",
        "\n",
        "#### Procedure\n",
        "\n",
        "1. Set up a starting condition and a termination condition\n",
        "2. Enter the body of the loop and perform the operation\n",
        "3. At the next iteration, the condition is tested\n",
        "4. If met, the loop continues. If not, the loop is terminated\n",
        "\n",
        "#### Example\n",
        "\n",
        "```\n",
        "index = 0\n",
        "\n",
        "while index <= 10:\n",
        "    print(index)\n",
        "    \n",
        "    # Index needs to be increased manually\n",
        "    index += 1\n",
        "```"
      ]
    },
    {
      "cell_type": "code",
      "execution_count": 23,
      "id": "ea66208c-5e0a-4f11-b81a-7d4d21b95eff",
      "metadata": {
        "id": "ea66208c-5e0a-4f11-b81a-7d4d21b95eff",
        "outputId": "3bf04aac-fa9f-4cdf-9cbf-5ac0d2b6fef7",
        "colab": {
          "base_uri": "https://localhost:8080/"
        }
      },
      "outputs": [
        {
          "output_type": "stream",
          "name": "stdout",
          "text": [
            "Index: 0 | Value: 0.0\n",
            "Index: 1 | Value: 2.0\n",
            "Index: 2 | Value: 5.0\n",
            "Index: 3 | Value: 20.0\n"
          ]
        }
      ],
      "source": [
        "# Basics of a while-loop\n",
        "index = 0\n",
        "\n",
        "while index < len(measurement):\n",
        "  value = measurement[index]\n",
        "  print(f\"Index: {index} | Value: {value}\")\n",
        "\n",
        "  # Really manual way\n",
        "  # index = index + 1\n",
        "\n",
        "  # Increment operator\n",
        "  index += 1"
      ]
    },
    {
      "cell_type": "code",
      "source": [
        "# Be aware of infinite loops!"
      ],
      "metadata": {
        "id": "OUPX1eenTaan"
      },
      "id": "OUPX1eenTaan",
      "execution_count": null,
      "outputs": []
    },
    {
      "cell_type": "markdown",
      "id": "04c01b16-b8f1-4b27-ad10-5d69daa94565",
      "metadata": {
        "id": "04c01b16-b8f1-4b27-ad10-5d69daa94565"
      },
      "source": [
        "## Conditions"
      ]
    },
    {
      "cell_type": "markdown",
      "id": "6c5fc8cd-e234-4ea9-9c64-ce14ab376781",
      "metadata": {
        "id": "6c5fc8cd-e234-4ea9-9c64-ce14ab376781",
        "tags": []
      },
      "source": [
        "- If-else statements are very important to deal with certain situations\n",
        "- Whenever a condition is met, the following code is executed\n",
        "- Optionally, an `else` statement can be used to deal with all situations that did not match the condition\n",
        "\n",
        "#### Using conditions wisely\n",
        "\n",
        "- Try to use as less as possible and as much as needed\n",
        "- Nesting too many `if`s is a sign of bad design\n",
        "- Sometimes it is helpful to deal with what you dont want (see [Guard clauses](https://medium.com/lemon-code/guard-clauses-3bc0cd96a2d3))"
      ]
    },
    {
      "cell_type": "code",
      "execution_count": 25,
      "id": "6s-EXeyNd3WJ",
      "metadata": {
        "id": "6s-EXeyNd3WJ",
        "outputId": "4898eb95-5e34-4ede-e305-adc9af4056b3",
        "colab": {
          "base_uri": "https://localhost:8080/"
        }
      },
      "outputs": [
        {
          "output_type": "stream",
          "name": "stdout",
          "text": [
            "10.0\n",
            "Added positive number 10.0\n",
            "-2.0\n",
            "20.0\n",
            "Added positive number 20.0\n",
            "Positive values: [10.0, 20.0]\n"
          ]
        }
      ],
      "source": [
        "# If-statement basics\n",
        "list_of_values = [10.0, -2.0, 20.0]\n",
        "positive_values = []\n",
        "\n",
        "for value in list_of_values:\n",
        "  print(value)\n",
        "  if value > 0:\n",
        "    print(f\"Added positive number {value}\")\n",
        "    positive_values.append(value)\n",
        "\n",
        "print(f\"Positive values: {positive_values}\")"
      ]
    },
    {
      "cell_type": "code",
      "source": [
        "# If-else-statement basics\n",
        "list_of_values = [10.0, -2.0, 20.0, 0.0]\n",
        "positive_values = []\n",
        "negative_values = []\n",
        "\n",
        "for value in list_of_values:\n",
        "  if value > 0:\n",
        "    # Only runs if number is positive\n",
        "    positive_values.append(value)\n",
        "  elif value == 0.0:\n",
        "    # Do nothing, continue with the loop\n",
        "    continue\n",
        "  else:\n",
        "    # Collect all the other cases (number is negative)\n",
        "    negative_values.append(value)\n",
        "\n",
        "print(f\"Positive values: {positive_values}\")\n",
        "print(f\"Negative values: {negative_values}\")"
      ],
      "metadata": {
        "id": "dvKbObtH8Gkr",
        "outputId": "90590df3-a43c-456d-ceb0-0756ddb87ce4",
        "colab": {
          "base_uri": "https://localhost:8080/"
        }
      },
      "id": "dvKbObtH8Gkr",
      "execution_count": 29,
      "outputs": [
        {
          "output_type": "stream",
          "name": "stdout",
          "text": [
            "Positive values: [10.0, 20.0]\n",
            "Negative values: [-2.0]\n"
          ]
        }
      ]
    },
    {
      "cell_type": "code",
      "execution_count": 35,
      "id": "79992e9a-fdd0-4cb0-978a-97674fd5b5f5",
      "metadata": {
        "id": "79992e9a-fdd0-4cb0-978a-97674fd5b5f5",
        "outputId": "dfc8ad86-8f75-4bf9-83bf-abaec48757cc",
        "colab": {
          "base_uri": "https://localhost:8080/"
        }
      },
      "outputs": [
        {
          "output_type": "stream",
          "name": "stdout",
          "text": [
            "We found hello!\n",
            "We found 'w' in 'World'\n",
            "We found 'w' in 'Whats up!'\n",
            "We found 'w' in 'world'\n"
          ]
        }
      ],
      "source": [
        "# String comparisons\n",
        "bag_of_words = [\"Hello\", \"World\", \"Whats up!\", \"world\"]\n",
        "\n",
        "for word in bag_of_words:\n",
        "  if word == \"Hello\":\n",
        "    print(\"We found hello!\")\n",
        "  elif \"w\" in word.lower():\n",
        "    print(f\"We found 'w' in '{word}'\")\n",
        "    # print(\"We found 'w' in '%s'\" % word)"
      ]
    },
    {
      "cell_type": "code",
      "execution_count": null,
      "id": "RKSLwVN6bg5q",
      "metadata": {
        "id": "RKSLwVN6bg5q"
      },
      "outputs": [],
      "source": [
        "# Numerical conditions"
      ]
    },
    {
      "cell_type": "markdown",
      "id": "81ba9cca-9839-42a6-96a2-334fcaba6be3",
      "metadata": {
        "id": "81ba9cca-9839-42a6-96a2-334fcaba6be3"
      },
      "source": [
        "## Its all about the sauce"
      ]
    },
    {
      "cell_type": "markdown",
      "id": "bf641dbc-9fa6-4a44-90db-1b296cb2a3a7",
      "metadata": {
        "id": "bf641dbc-9fa6-4a44-90db-1b296cb2a3a7",
        "tags": []
      },
      "source": [
        "Navigating through the syntax jungle can be quite tempting and exhausting. However, most problems you will be confronted with have already been solved numerous times. Thus, knowing your __sources__ is the utmost important skill when programming. There are multiple sites where problems are discussed and solutions are given!\n",
        "\n",
        "#### Helpful sites\n",
        "\n",
        "- [StackOverflow](https://www.stackoverflow.com) - Probably the best site to search for help\n",
        "- [W3Schools Python](https://www.w3schools.com/python/) - Great overview of Pythons functionality\n",
        "- [PythonCheatSheet](https://www.pythoncheatsheet.org/) - Another great overview\n",
        "- [Google](https://www.google.com) - The most used tool in Software Development"
      ]
    }
  ],
  "metadata": {
    "colab": {
      "provenance": []
    },
    "kernelspec": {
      "display_name": "Python 3 (ipykernel)",
      "language": "python",
      "name": "python3"
    },
    "language_info": {
      "codemirror_mode": {
        "name": "ipython",
        "version": 3
      },
      "file_extension": ".py",
      "mimetype": "text/x-python",
      "name": "python",
      "nbconvert_exporter": "python",
      "pygments_lexer": "ipython3",
      "version": "3.11.5"
    }
  },
  "nbformat": 4,
  "nbformat_minor": 5
}